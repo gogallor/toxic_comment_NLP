{
 "cells": [
  {
   "cell_type": "markdown",
   "id": "1b7c7b40",
   "metadata": {},
   "source": [
    "<h1>Содержание<span class=\"tocSkip\"></span></h1>\n",
    "<div class=\"toc\"><ul class=\"toc-item\"><li><span><a href=\"#Подготовка\" data-toc-modified-id=\"Подготовка-1\"><span class=\"toc-item-num\">1&nbsp;&nbsp;</span>Подготовка</a></span></li><li><span><a href=\"#Обучение\" data-toc-modified-id=\"Обучение-2\"><span class=\"toc-item-num\">2&nbsp;&nbsp;</span>Обучение</a></span></li><li><span><a href=\"#Выводы\" data-toc-modified-id=\"Выводы-3\"><span class=\"toc-item-num\">3&nbsp;&nbsp;</span>Выводы</a></span></li><li><span><a href=\"#Чек-лист-проверки\" data-toc-modified-id=\"Чек-лист-проверки-4\"><span class=\"toc-item-num\">4&nbsp;&nbsp;</span>Чек-лист проверки</a></span></li></ul></div>"
   ]
  },
  {
   "cell_type": "markdown",
   "id": "e555ffa5",
   "metadata": {},
   "source": [
    "# Проект для «Викишоп»"
   ]
  },
  {
   "cell_type": "markdown",
   "id": "bc2fe531",
   "metadata": {},
   "source": [
    "Интернет-магазин «Викишоп» запускает новый сервис. Теперь пользователи могут редактировать и дополнять описания товаров, как в вики-сообществах. То есть клиенты предлагают свои правки и комментируют изменения других. Магазину нужен инструмент, который будет искать токсичные комментарии и отправлять их на модерацию. \n",
    "\n",
    "Обучите модель классифицировать комментарии на позитивные и негативные. В вашем распоряжении набор данных с разметкой о токсичности правок.\n",
    "\n",
    "Постройте модель со значением метрики качества *F1* не меньше 0.75. \n",
    "\n",
    "**Инструкция по выполнению проекта**\n",
    "\n",
    "1. Загрузите и подготовьте данные.\n",
    "2. Обучите разные модели. \n",
    "3. Сделайте выводы.\n",
    "\n",
    "Для выполнения проекта применять *BERT* необязательно, но вы можете попробовать.\n",
    "\n",
    "**Описание данных**\n",
    "\n",
    "Данные находятся в файле `toxic_comments.csv`. Столбец *text* в нём содержит текст комментария, а *toxic* — целевой признак."
   ]
  },
  {
   "cell_type": "markdown",
   "id": "6f69d81d",
   "metadata": {},
   "source": [
    "## Подготовка данных"
   ]
  },
  {
   "cell_type": "markdown",
   "id": "69f6e82e",
   "metadata": {},
   "source": [
    "Загрузим необходимые библиотеки."
   ]
  },
  {
   "cell_type": "code",
   "execution_count": 1,
   "id": "c3243ca1",
   "metadata": {},
   "outputs": [],
   "source": [
    "import numpy as np\n",
    "import pandas as pd\n",
    "import torch\n",
    "import transformers\n",
    "import re\n",
    "import spacy\n",
    "import lightgbm as lgb\n",
    "import seaborn as sns\n",
    "import matplotlib.pyplot as plt\n",
    "\n",
    "import nltk\n",
    "from sklearn.feature_extraction.text import TfidfVectorizer\n",
    "\n",
    "from tqdm import notebook\n",
    "from pymystem3 import Mystem\n",
    "from sklearn.ensemble import RandomForestClassifier\n",
    "from sklearn.linear_model import LogisticRegression, SGDClassifier\n",
    "from sklearn.model_selection import cross_val_score\n",
    "from sklearn.model_selection import train_test_split\n",
    "from sklearn.metrics import accuracy_score\n",
    "from sklearn.utils import shuffle\n",
    "from nltk.corpus import stopwords as nltk_stopwords\n",
    "from transformers import AutoTokenizer, AutoModel\n",
    "from catboost import CatBoostClassifier, Pool\n",
    "from sklearn.metrics import f1_score\n",
    "from sklearn.model_selection import GridSearchCV"
   ]
  },
  {
   "cell_type": "markdown",
   "id": "7feb2bee",
   "metadata": {},
   "source": [
    "Сохраним датасет в переменную и просмотрим его."
   ]
  },
  {
   "cell_type": "code",
   "execution_count": 2,
   "id": "2925decb",
   "metadata": {},
   "outputs": [],
   "source": [
    "try:\n",
    "    df_toxic = pd.read_csv('/datasets/toxic_comments.csv')\n",
    "except:\n",
    "    df_toxic = pd.read_csv('toxic_comments.csv')"
   ]
  },
  {
   "cell_type": "code",
   "execution_count": 3,
   "id": "d68503a6",
   "metadata": {},
   "outputs": [
    {
     "data": {
      "text/html": [
       "<div>\n",
       "<style scoped>\n",
       "    .dataframe tbody tr th:only-of-type {\n",
       "        vertical-align: middle;\n",
       "    }\n",
       "\n",
       "    .dataframe tbody tr th {\n",
       "        vertical-align: top;\n",
       "    }\n",
       "\n",
       "    .dataframe thead th {\n",
       "        text-align: right;\n",
       "    }\n",
       "</style>\n",
       "<table border=\"1\" class=\"dataframe\">\n",
       "  <thead>\n",
       "    <tr style=\"text-align: right;\">\n",
       "      <th></th>\n",
       "      <th>text</th>\n",
       "      <th>toxic</th>\n",
       "    </tr>\n",
       "  </thead>\n",
       "  <tbody>\n",
       "    <tr>\n",
       "      <th>0</th>\n",
       "      <td>Explanation\\nWhy the edits made under my usern...</td>\n",
       "      <td>0</td>\n",
       "    </tr>\n",
       "    <tr>\n",
       "      <th>1</th>\n",
       "      <td>D'aww! He matches this background colour I'm s...</td>\n",
       "      <td>0</td>\n",
       "    </tr>\n",
       "    <tr>\n",
       "      <th>2</th>\n",
       "      <td>Hey man, I'm really not trying to edit war. It...</td>\n",
       "      <td>0</td>\n",
       "    </tr>\n",
       "    <tr>\n",
       "      <th>3</th>\n",
       "      <td>\"\\nMore\\nI can't make any real suggestions on ...</td>\n",
       "      <td>0</td>\n",
       "    </tr>\n",
       "    <tr>\n",
       "      <th>4</th>\n",
       "      <td>You, sir, are my hero. Any chance you remember...</td>\n",
       "      <td>0</td>\n",
       "    </tr>\n",
       "  </tbody>\n",
       "</table>\n",
       "</div>"
      ],
      "text/plain": [
       "                                                text  toxic\n",
       "0  Explanation\\nWhy the edits made under my usern...      0\n",
       "1  D'aww! He matches this background colour I'm s...      0\n",
       "2  Hey man, I'm really not trying to edit war. It...      0\n",
       "3  \"\\nMore\\nI can't make any real suggestions on ...      0\n",
       "4  You, sir, are my hero. Any chance you remember...      0"
      ]
     },
     "execution_count": 3,
     "metadata": {},
     "output_type": "execute_result"
    }
   ],
   "source": [
    "df_toxic.head()"
   ]
  },
  {
   "cell_type": "markdown",
   "id": "a89a7869",
   "metadata": {},
   "source": [
    "Подготовим признаки. Загрузим библиотеку для обработки текста модуля spacy."
   ]
  },
  {
   "cell_type": "code",
   "execution_count": 4,
   "id": "408f70b5",
   "metadata": {},
   "outputs": [],
   "source": [
    "nlp = spacy.load('en_core_web_sm')"
   ]
  },
  {
   "cell_type": "markdown",
   "id": "273b6257",
   "metadata": {},
   "source": [
    "Напишем функцию для лемматизации и очистки текста."
   ]
  },
  {
   "cell_type": "code",
   "execution_count": 5,
   "id": "51d8d014",
   "metadata": {},
   "outputs": [],
   "source": [
    "def lemma_clear(text):\n",
    "    text = text.lower()\n",
    "    lemm = nlp(text)\n",
    "    lemm = \" \".join([token.lemma_ for token in lemm])\n",
    "    lemm = re.sub(r'[^a-zA-Z ]',' ',lemm)\n",
    "  \n",
    "    return \" \".join(lemm.split())"
   ]
  },
  {
   "cell_type": "markdown",
   "id": "7f6e6d95",
   "metadata": {},
   "source": [
    "Подготовим текст."
   ]
  },
  {
   "cell_type": "code",
   "execution_count": 6,
   "id": "d7cfdad7",
   "metadata": {},
   "outputs": [],
   "source": [
    "df_toxic['lemm_text'] = df_toxic['text'].apply(lemma_clear)\n",
    "\n",
    "df_toxic = df_toxic.drop(['text'], axis=1)"
   ]
  },
  {
   "cell_type": "code",
   "execution_count": 7,
   "id": "ac420c2b",
   "metadata": {},
   "outputs": [
    {
     "data": {
      "text/html": [
       "<div>\n",
       "<style scoped>\n",
       "    .dataframe tbody tr th:only-of-type {\n",
       "        vertical-align: middle;\n",
       "    }\n",
       "\n",
       "    .dataframe tbody tr th {\n",
       "        vertical-align: top;\n",
       "    }\n",
       "\n",
       "    .dataframe thead th {\n",
       "        text-align: right;\n",
       "    }\n",
       "</style>\n",
       "<table border=\"1\" class=\"dataframe\">\n",
       "  <thead>\n",
       "    <tr style=\"text-align: right;\">\n",
       "      <th></th>\n",
       "      <th>toxic</th>\n",
       "      <th>lemm_text</th>\n",
       "    </tr>\n",
       "  </thead>\n",
       "  <tbody>\n",
       "    <tr>\n",
       "      <th>0</th>\n",
       "      <td>0</td>\n",
       "      <td>explanation why the edit make under my usernam...</td>\n",
       "    </tr>\n",
       "    <tr>\n",
       "      <th>1</th>\n",
       "      <td>0</td>\n",
       "      <td>d aww he match this background colour I be see...</td>\n",
       "    </tr>\n",
       "    <tr>\n",
       "      <th>2</th>\n",
       "      <td>0</td>\n",
       "      <td>hey man I be really not try to edit war it be ...</td>\n",
       "    </tr>\n",
       "    <tr>\n",
       "      <th>3</th>\n",
       "      <td>0</td>\n",
       "      <td>more I can not make any real suggestion on imp...</td>\n",
       "    </tr>\n",
       "    <tr>\n",
       "      <th>4</th>\n",
       "      <td>0</td>\n",
       "      <td>you sir be my hero any chance you remember wha...</td>\n",
       "    </tr>\n",
       "  </tbody>\n",
       "</table>\n",
       "</div>"
      ],
      "text/plain": [
       "   toxic                                          lemm_text\n",
       "0      0  explanation why the edit make under my usernam...\n",
       "1      0  d aww he match this background colour I be see...\n",
       "2      0  hey man I be really not try to edit war it be ...\n",
       "3      0  more I can not make any real suggestion on imp...\n",
       "4      0  you sir be my hero any chance you remember wha..."
      ]
     },
     "execution_count": 7,
     "metadata": {},
     "output_type": "execute_result"
    }
   ],
   "source": [
    "df_toxic.head()"
   ]
  },
  {
   "cell_type": "markdown",
   "id": "72a54e84",
   "metadata": {},
   "source": [
    "Проверим баланс данных."
   ]
  },
  {
   "cell_type": "code",
   "execution_count": 8,
   "id": "010ef9a3",
   "metadata": {},
   "outputs": [
    {
     "data": {
      "text/plain": [
       "Text(16.299999999999997, 0.5, 'toxic')"
      ]
     },
     "execution_count": 8,
     "metadata": {},
     "output_type": "execute_result"
    },
    {
     "data": {
      "image/png": "[encoded data removed]",
      "text/plain": [
       "<Figure size 720x288 with 1 Axes>"
      ]
     },
     "metadata": {
      "needs_background": "light"
     },
     "output_type": "display_data"
    }
   ],
   "source": [
    "g = sns.catplot(kind = 'count', y = 'toxic', data = df_toxic)\n",
    "g.fig.set_figwidth(10)\n",
    "g.fig.set_figheight(4)\n",
    "plt.title('toxic_comment')\n",
    "plt.xlabel('number of comments')\n",
    "plt.ylabel('toxic')"
   ]
  },
  {
   "cell_type": "markdown",
   "id": "9d2579c5",
   "metadata": {},
   "source": [
    "Данные несбалансированы. Для балансировки в дальнейшем используем вес классов."
   ]
  },
  {
   "cell_type": "markdown",
   "id": "b3a87062",
   "metadata": {},
   "source": [
    "Разделим данные на признаки и целевой признак."
   ]
  },
  {
   "cell_type": "code",
   "execution_count": 9,
   "id": "47f07d58",
   "metadata": {},
   "outputs": [],
   "source": [
    "features = df_toxic['lemm_text']\n",
    "target = df_toxic['toxic']"
   ]
  },
  {
   "cell_type": "markdown",
   "id": "bfc67b07",
   "metadata": {},
   "source": [
    "Разделим признаки на тренировочную, валидационную и тестовую выборки."
   ]
  },
  {
   "cell_type": "code",
   "execution_count": 10,
   "id": "0b3d3d10",
   "metadata": {},
   "outputs": [],
   "source": [
    "features_train, features_valid, target_train, target_valid = train_test_split(features, \n",
    "                                                                              target, \n",
    "                                                                              test_size=0.4, \n",
    "                                                                              random_state=2022)\n",
    "features_valid, features_test, target_valid, target_test = train_test_split(features_valid, \n",
    "                                                                            target_valid, \n",
    "                                                                            test_size=0.5,\n",
    "                                                                            random_state=2022)"
   ]
  },
  {
   "cell_type": "markdown",
   "id": "93080999",
   "metadata": {},
   "source": [
    "Произведем векторизацию текстов."
   ]
  },
  {
   "cell_type": "code",
   "execution_count": 11,
   "id": "706ad6dc",
   "metadata": {
    "scrolled": true
   },
   "outputs": [
    {
     "name": "stderr",
     "output_type": "stream",
     "text": [
      "[nltk_data] Downloading package stopwords to /home/jovyan/nltk_data...\n",
      "[nltk_data]   Unzipping corpora/stopwords.zip.\n"
     ]
    }
   ],
   "source": [
    "nltk.download('stopwords')\n",
    "stopwords = set(nltk_stopwords.words('english'))\n",
    "count_tf_idf = TfidfVectorizer(stop_words=stopwords)"
   ]
  },
  {
   "cell_type": "code",
   "execution_count": 12,
   "id": "d5cbd965",
   "metadata": {},
   "outputs": [],
   "source": [
    "features_train = count_tf_idf.fit_transform(features_train.values.astype('U'))\n",
    "features_valid = count_tf_idf.transform(features_valid.values.astype('U'))\n",
    "features_test = count_tf_idf.transform(features_test.values.astype('U'))"
   ]
  },
  {
   "cell_type": "markdown",
   "id": "ea0caba0",
   "metadata": {},
   "source": [
    "Проверим размеры."
   ]
  },
  {
   "cell_type": "code",
   "execution_count": 13,
   "id": "90ba1334",
   "metadata": {},
   "outputs": [
    {
     "name": "stdout",
     "output_type": "stream",
     "text": [
      "(95742, 113570)\n",
      "(31914, 113570)\n",
      "(31915, 113570)\n"
     ]
    }
   ],
   "source": [
    "print(features_train.shape)\n",
    "print(features_valid.shape)\n",
    "print(features_test.shape)"
   ]
  },
  {
   "cell_type": "markdown",
   "id": "823f6380",
   "metadata": {},
   "source": [
    "## CatBoost"
   ]
  },
  {
   "cell_type": "markdown",
   "id": "f4d9fcfe",
   "metadata": {},
   "source": [
    "Инициализируем CatBoostClassifier."
   ]
  },
  {
   "cell_type": "code",
   "execution_count": 14,
   "id": "1e8d2691",
   "metadata": {},
   "outputs": [
    {
     "name": "stdout",
     "output_type": "stream",
     "text": [
      "F1 на cv 0.7312952118422927\n",
      "F1 на валидации 0.7554999105705599\n",
      "CPU times: user 31min 20s, sys: 16.9 s, total: 31min 36s\n",
      "Wall time: 31min 47s\n"
     ]
    }
   ],
   "source": [
    "%%time\n",
    "\n",
    "CBC = CatBoostClassifier(verbose=False, iterations=300)\n",
    "CBC.fit(features_train, target_train)\n",
    "target_predict = CBC.predict(features_valid)\n",
    "cv_f1_CBC = cross_val_score(CBC,\n",
    "                            features_train,\n",
    "                            target_train,\n",
    "                            cv=3,\n",
    "                            scoring='f1').mean()\n",
    "valid_f1_CBC = f1_score(target_valid, target_predict)\n",
    "print('F1 на cv', cv_f1_CBC)\n",
    "print('F1 на валидации', valid_f1_CBC)"
   ]
  },
  {
   "cell_type": "markdown",
   "id": "f1387bfc",
   "metadata": {},
   "source": [
    "## LogisticRegression"
   ]
  },
  {
   "cell_type": "markdown",
   "id": "e3f87cbd",
   "metadata": {},
   "source": [
    "Создадим переменную для балансировки данных."
   ]
  },
  {
   "cell_type": "code",
   "execution_count": 15,
   "id": "8d9c62f4",
   "metadata": {},
   "outputs": [],
   "source": [
    "class_ratio = df_toxic['toxic'].value_counts()[0] / df_toxic['toxic'].value_counts()[1]\n",
    "\n",
    "dict_classes={0:1, 1:class_ratio}"
   ]
  },
  {
   "cell_type": "markdown",
   "id": "cd0f1827",
   "metadata": {},
   "source": [
    "Инициализируем модель LogisticRegression, а также выберем параметры для подбора наилучшей комбинации методом GridSearch."
   ]
  },
  {
   "cell_type": "code",
   "execution_count": 16,
   "id": "80375a00",
   "metadata": {},
   "outputs": [
    {
     "name": "stdout",
     "output_type": "stream",
     "text": [
      "\n"
     ]
    },
    {
     "name": "stderr",
     "output_type": "stream",
     "text": [
      "/opt/conda/lib/python3.9/site-packages/sklearn/linear_model/_logistic.py:763: ConvergenceWarning: lbfgs failed to converge (status=1):\n",
      "STOP: TOTAL NO. of ITERATIONS REACHED LIMIT.\n",
      "\n",
      "Increase the number of iterations (max_iter) or scale the data as shown in:\n",
      "    https://scikit-learn.org/stable/modules/preprocessing.html\n",
      "Please also refer to the documentation for alternative solver options:\n",
      "    https://scikit-learn.org/stable/modules/linear_model.html#logistic-regression\n",
      "  n_iter_i = _check_optimize_result(\n",
      "/opt/conda/lib/python3.9/site-packages/sklearn/linear_model/_logistic.py:763: ConvergenceWarning: lbfgs failed to converge (status=1):\n",
      "STOP: TOTAL NO. of ITERATIONS REACHED LIMIT.\n",
      "\n",
      "Increase the number of iterations (max_iter) or scale the data as shown in:\n",
      "    https://scikit-learn.org/stable/modules/preprocessing.html\n",
      "Please also refer to the documentation for alternative solver options:\n",
      "    https://scikit-learn.org/stable/modules/linear_model.html#logistic-regression\n",
      "  n_iter_i = _check_optimize_result(\n",
      "/opt/conda/lib/python3.9/site-packages/sklearn/linear_model/_logistic.py:763: ConvergenceWarning: lbfgs failed to converge (status=1):\n",
      "STOP: TOTAL NO. of ITERATIONS REACHED LIMIT.\n",
      "\n",
      "Increase the number of iterations (max_iter) or scale the data as shown in:\n",
      "    https://scikit-learn.org/stable/modules/preprocessing.html\n",
      "Please also refer to the documentation for alternative solver options:\n",
      "    https://scikit-learn.org/stable/modules/linear_model.html#logistic-regression\n",
      "  n_iter_i = _check_optimize_result(\n",
      "/opt/conda/lib/python3.9/site-packages/sklearn/linear_model/_logistic.py:763: ConvergenceWarning: lbfgs failed to converge (status=1):\n",
      "STOP: TOTAL NO. of ITERATIONS REACHED LIMIT.\n",
      "\n",
      "Increase the number of iterations (max_iter) or scale the data as shown in:\n",
      "    https://scikit-learn.org/stable/modules/preprocessing.html\n",
      "Please also refer to the documentation for alternative solver options:\n",
      "    https://scikit-learn.org/stable/modules/linear_model.html#logistic-regression\n",
      "  n_iter_i = _check_optimize_result(\n",
      "/opt/conda/lib/python3.9/site-packages/sklearn/linear_model/_logistic.py:763: ConvergenceWarning: lbfgs failed to converge (status=1):\n",
      "STOP: TOTAL NO. of ITERATIONS REACHED LIMIT.\n",
      "\n",
      "Increase the number of iterations (max_iter) or scale the data as shown in:\n",
      "    https://scikit-learn.org/stable/modules/preprocessing.html\n",
      "Please also refer to the documentation for alternative solver options:\n",
      "    https://scikit-learn.org/stable/modules/linear_model.html#logistic-regression\n",
      "  n_iter_i = _check_optimize_result(\n",
      "/opt/conda/lib/python3.9/site-packages/sklearn/linear_model/_logistic.py:763: ConvergenceWarning: lbfgs failed to converge (status=1):\n",
      "STOP: TOTAL NO. of ITERATIONS REACHED LIMIT.\n",
      "\n",
      "Increase the number of iterations (max_iter) or scale the data as shown in:\n",
      "    https://scikit-learn.org/stable/modules/preprocessing.html\n",
      "Please also refer to the documentation for alternative solver options:\n",
      "    https://scikit-learn.org/stable/modules/linear_model.html#logistic-regression\n",
      "  n_iter_i = _check_optimize_result(\n"
     ]
    },
    {
     "name": "stdout",
     "output_type": "stream",
     "text": [
      "Лучшие параметры:\n",
      "\n",
      "{'C': 10, 'class_weight': {0: 1, 1: 8.834884437596301}, 'solver': 'lbfgs'}\n",
      "\n",
      "Результаты расчета метрики при различных комбинациях параметров:\n",
      "\n",
      "0.714281 for {'C': 0.1, 'class_weight': {0: 1, 1: 8.834884437596301}, 'solver': 'newton-cg'}\n",
      "0.714306 for {'C': 0.1, 'class_weight': {0: 1, 1: 8.834884437596301}, 'solver': 'lbfgs'}\n",
      "0.714293 for {'C': 0.1, 'class_weight': {0: 1, 1: 8.834884437596301}, 'solver': 'liblinear'}\n",
      "0.752945 for {'C': 1, 'class_weight': {0: 1, 1: 8.834884437596301}, 'solver': 'newton-cg'}\n",
      "0.752909 for {'C': 1, 'class_weight': {0: 1, 1: 8.834884437596301}, 'solver': 'lbfgs'}\n",
      "0.752911 for {'C': 1, 'class_weight': {0: 1, 1: 8.834884437596301}, 'solver': 'liblinear'}\n",
      "0.759608 for {'C': 10, 'class_weight': {0: 1, 1: 8.834884437596301}, 'solver': 'newton-cg'}\n",
      "0.760313 for {'C': 10, 'class_weight': {0: 1, 1: 8.834884437596301}, 'solver': 'lbfgs'}\n",
      "0.759608 for {'C': 10, 'class_weight': {0: 1, 1: 8.834884437596301}, 'solver': 'liblinear'}\n",
      "\n",
      "CPU times: user 3min 44s, sys: 7min 58s, total: 11min 43s\n",
      "Wall time: 11min 44s\n"
     ]
    },
    {
     "name": "stderr",
     "output_type": "stream",
     "text": [
      "/opt/conda/lib/python3.9/site-packages/sklearn/linear_model/_logistic.py:763: ConvergenceWarning: lbfgs failed to converge (status=1):\n",
      "STOP: TOTAL NO. of ITERATIONS REACHED LIMIT.\n",
      "\n",
      "Increase the number of iterations (max_iter) or scale the data as shown in:\n",
      "    https://scikit-learn.org/stable/modules/preprocessing.html\n",
      "Please also refer to the documentation for alternative solver options:\n",
      "    https://scikit-learn.org/stable/modules/linear_model.html#logistic-regression\n",
      "  n_iter_i = _check_optimize_result(\n"
     ]
    }
   ],
   "source": [
    "%%time\n",
    "\n",
    "LR = LogisticRegression(random_state=2022)\n",
    "hyperparams = [{'solver':['newton-cg', 'lbfgs', 'liblinear'],\n",
    "                'C':[0.1, 1, 10],\n",
    "                'class_weight':[dict_classes]}]\n",
    "\n",
    "\n",
    "print()\n",
    "clf = GridSearchCV(LR, hyperparams, scoring='f1',cv=3, n_jobs=-1)\n",
    "clf.fit(features_train, target_train)\n",
    "print(\"Лучшие параметры:\")\n",
    "print()\n",
    "LR_best_params = clf.best_params_\n",
    "print(LR_best_params)\n",
    "print()\n",
    "print(\"Результаты расчета метрики при различных комбинациях параметров:\")\n",
    "print()\n",
    "means = clf.cv_results_['mean_test_score']\n",
    "stds = clf.cv_results_['std_test_score']\n",
    "for mean, std, params in zip(means, stds, clf.cv_results_['params']):\n",
    "    print(\"%0.6f for %r\"% (mean, params))\n",
    "print()\n",
    "\n",
    "cv_f1_LR = max(means)"
   ]
  },
  {
   "cell_type": "code",
   "execution_count": 17,
   "id": "4ad84e69",
   "metadata": {},
   "outputs": [
    {
     "name": "stdout",
     "output_type": "stream",
     "text": [
      "F1 на cv 0.7603127617356682\n",
      "F1 на валидации 0.772502184678124\n",
      "CPU times: user 15.2 s, sys: 34.7 s, total: 50 s\n",
      "Wall time: 50.1 s\n"
     ]
    },
    {
     "name": "stderr",
     "output_type": "stream",
     "text": [
      "/opt/conda/lib/python3.9/site-packages/sklearn/linear_model/_logistic.py:763: ConvergenceWarning: lbfgs failed to converge (status=1):\n",
      "STOP: TOTAL NO. of ITERATIONS REACHED LIMIT.\n",
      "\n",
      "Increase the number of iterations (max_iter) or scale the data as shown in:\n",
      "    https://scikit-learn.org/stable/modules/preprocessing.html\n",
      "Please also refer to the documentation for alternative solver options:\n",
      "    https://scikit-learn.org/stable/modules/linear_model.html#logistic-regression\n",
      "  n_iter_i = _check_optimize_result(\n"
     ]
    }
   ],
   "source": [
    "%%time\n",
    "\n",
    "LR = LogisticRegression(random_state=2022)\n",
    "LR.set_params(**LR_best_params)\n",
    "LR.fit(features_train, target_train)\n",
    "target_predict = LR.predict(features_valid)\n",
    "valid_f1_LR = f1_score(target_valid, target_predict)\n",
    "print('F1 на cv', cv_f1_LR)\n",
    "print('F1 на валидации', valid_f1_LR)"
   ]
  },
  {
   "cell_type": "markdown",
   "id": "64afd939",
   "metadata": {},
   "source": [
    "## SGDClassifier"
   ]
  },
  {
   "cell_type": "markdown",
   "id": "260886f2",
   "metadata": {},
   "source": [
    "Инициализируем модель SGDClassifier, выберем параметры для подбора методом GridSearch, подберем наилучшую комбинацию."
   ]
  },
  {
   "cell_type": "code",
   "execution_count": 18,
   "id": "60a842a3",
   "metadata": {},
   "outputs": [
    {
     "name": "stdout",
     "output_type": "stream",
     "text": [
      "\n",
      "Лучшие параметры:\n",
      "\n",
      "{'class_weight': {0: 1, 1: 8.834884437596301}, 'eta0': 0.5, 'learning_rate': 'adaptive', 'loss': 'modified_huber', 'random_state': 2022}\n",
      "\n",
      "Результаты расчета метрики при различных комбинациях параметров:\n",
      "\n",
      "0.740053 for {'class_weight': {0: 1, 1: 8.834884437596301}, 'eta0': 0.01, 'learning_rate': 'constant', 'loss': 'hinge', 'random_state': 2022}\n",
      "0.722026 for {'class_weight': {0: 1, 1: 8.834884437596301}, 'eta0': 0.01, 'learning_rate': 'constant', 'loss': 'log', 'random_state': 2022}\n",
      "0.750048 for {'class_weight': {0: 1, 1: 8.834884437596301}, 'eta0': 0.01, 'learning_rate': 'constant', 'loss': 'modified_huber', 'random_state': 2022}\n",
      "0.739787 for {'class_weight': {0: 1, 1: 8.834884437596301}, 'eta0': 0.01, 'learning_rate': 'optimal', 'loss': 'hinge', 'random_state': 2022}\n",
      "0.721827 for {'class_weight': {0: 1, 1: 8.834884437596301}, 'eta0': 0.01, 'learning_rate': 'optimal', 'loss': 'log', 'random_state': 2022}\n",
      "0.751110 for {'class_weight': {0: 1, 1: 8.834884437596301}, 'eta0': 0.01, 'learning_rate': 'optimal', 'loss': 'modified_huber', 'random_state': 2022}\n",
      "0.680396 for {'class_weight': {0: 1, 1: 8.834884437596301}, 'eta0': 0.01, 'learning_rate': 'invscaling', 'loss': 'hinge', 'random_state': 2022}\n",
      "0.671669 for {'class_weight': {0: 1, 1: 8.834884437596301}, 'eta0': 0.01, 'learning_rate': 'invscaling', 'loss': 'log', 'random_state': 2022}\n",
      "0.667315 for {'class_weight': {0: 1, 1: 8.834884437596301}, 'eta0': 0.01, 'learning_rate': 'invscaling', 'loss': 'modified_huber', 'random_state': 2022}\n",
      "0.741801 for {'class_weight': {0: 1, 1: 8.834884437596301}, 'eta0': 0.01, 'learning_rate': 'adaptive', 'loss': 'hinge', 'random_state': 2022}\n",
      "0.721941 for {'class_weight': {0: 1, 1: 8.834884437596301}, 'eta0': 0.01, 'learning_rate': 'adaptive', 'loss': 'log', 'random_state': 2022}\n",
      "0.755338 for {'class_weight': {0: 1, 1: 8.834884437596301}, 'eta0': 0.01, 'learning_rate': 'adaptive', 'loss': 'modified_huber', 'random_state': 2022}\n",
      "0.724562 for {'class_weight': {0: 1, 1: 8.834884437596301}, 'eta0': 0.05, 'learning_rate': 'constant', 'loss': 'hinge', 'random_state': 2022}\n",
      "0.723008 for {'class_weight': {0: 1, 1: 8.834884437596301}, 'eta0': 0.05, 'learning_rate': 'constant', 'loss': 'log', 'random_state': 2022}\n",
      "0.732866 for {'class_weight': {0: 1, 1: 8.834884437596301}, 'eta0': 0.05, 'learning_rate': 'constant', 'loss': 'modified_huber', 'random_state': 2022}\n",
      "0.739787 for {'class_weight': {0: 1, 1: 8.834884437596301}, 'eta0': 0.05, 'learning_rate': 'optimal', 'loss': 'hinge', 'random_state': 2022}\n",
      "0.721827 for {'class_weight': {0: 1, 1: 8.834884437596301}, 'eta0': 0.05, 'learning_rate': 'optimal', 'loss': 'log', 'random_state': 2022}\n",
      "0.751110 for {'class_weight': {0: 1, 1: 8.834884437596301}, 'eta0': 0.05, 'learning_rate': 'optimal', 'loss': 'modified_huber', 'random_state': 2022}\n",
      "0.692662 for {'class_weight': {0: 1, 1: 8.834884437596301}, 'eta0': 0.05, 'learning_rate': 'invscaling', 'loss': 'hinge', 'random_state': 2022}\n",
      "0.668618 for {'class_weight': {0: 1, 1: 8.834884437596301}, 'eta0': 0.05, 'learning_rate': 'invscaling', 'loss': 'log', 'random_state': 2022}\n",
      "0.672454 for {'class_weight': {0: 1, 1: 8.834884437596301}, 'eta0': 0.05, 'learning_rate': 'invscaling', 'loss': 'modified_huber', 'random_state': 2022}\n",
      "0.742228 for {'class_weight': {0: 1, 1: 8.834884437596301}, 'eta0': 0.05, 'learning_rate': 'adaptive', 'loss': 'hinge', 'random_state': 2022}\n",
      "0.723793 for {'class_weight': {0: 1, 1: 8.834884437596301}, 'eta0': 0.05, 'learning_rate': 'adaptive', 'loss': 'log', 'random_state': 2022}\n",
      "0.755464 for {'class_weight': {0: 1, 1: 8.834884437596301}, 'eta0': 0.05, 'learning_rate': 'adaptive', 'loss': 'modified_huber', 'random_state': 2022}\n",
      "0.709076 for {'class_weight': {0: 1, 1: 8.834884437596301}, 'eta0': 0.1, 'learning_rate': 'constant', 'loss': 'hinge', 'random_state': 2022}\n",
      "0.716138 for {'class_weight': {0: 1, 1: 8.834884437596301}, 'eta0': 0.1, 'learning_rate': 'constant', 'loss': 'log', 'random_state': 2022}\n",
      "0.686055 for {'class_weight': {0: 1, 1: 8.834884437596301}, 'eta0': 0.1, 'learning_rate': 'constant', 'loss': 'modified_huber', 'random_state': 2022}\n",
      "0.739787 for {'class_weight': {0: 1, 1: 8.834884437596301}, 'eta0': 0.1, 'learning_rate': 'optimal', 'loss': 'hinge', 'random_state': 2022}\n",
      "0.721827 for {'class_weight': {0: 1, 1: 8.834884437596301}, 'eta0': 0.1, 'learning_rate': 'optimal', 'loss': 'log', 'random_state': 2022}\n",
      "0.751110 for {'class_weight': {0: 1, 1: 8.834884437596301}, 'eta0': 0.1, 'learning_rate': 'optimal', 'loss': 'modified_huber', 'random_state': 2022}\n",
      "0.683036 for {'class_weight': {0: 1, 1: 8.834884437596301}, 'eta0': 0.1, 'learning_rate': 'invscaling', 'loss': 'hinge', 'random_state': 2022}\n",
      "0.664064 for {'class_weight': {0: 1, 1: 8.834884437596301}, 'eta0': 0.1, 'learning_rate': 'invscaling', 'loss': 'log', 'random_state': 2022}\n",
      "0.691687 for {'class_weight': {0: 1, 1: 8.834884437596301}, 'eta0': 0.1, 'learning_rate': 'invscaling', 'loss': 'modified_huber', 'random_state': 2022}\n",
      "0.741882 for {'class_weight': {0: 1, 1: 8.834884437596301}, 'eta0': 0.1, 'learning_rate': 'adaptive', 'loss': 'hinge', 'random_state': 2022}\n",
      "0.723961 for {'class_weight': {0: 1, 1: 8.834884437596301}, 'eta0': 0.1, 'learning_rate': 'adaptive', 'loss': 'log', 'random_state': 2022}\n",
      "0.755137 for {'class_weight': {0: 1, 1: 8.834884437596301}, 'eta0': 0.1, 'learning_rate': 'adaptive', 'loss': 'modified_huber', 'random_state': 2022}\n",
      "0.655225 for {'class_weight': {0: 1, 1: 8.834884437596301}, 'eta0': 0.2, 'learning_rate': 'constant', 'loss': 'hinge', 'random_state': 2022}\n",
      "0.685036 for {'class_weight': {0: 1, 1: 8.834884437596301}, 'eta0': 0.2, 'learning_rate': 'constant', 'loss': 'log', 'random_state': 2022}\n",
      "0.644176 for {'class_weight': {0: 1, 1: 8.834884437596301}, 'eta0': 0.2, 'learning_rate': 'constant', 'loss': 'modified_huber', 'random_state': 2022}\n",
      "0.739787 for {'class_weight': {0: 1, 1: 8.834884437596301}, 'eta0': 0.2, 'learning_rate': 'optimal', 'loss': 'hinge', 'random_state': 2022}\n",
      "0.721827 for {'class_weight': {0: 1, 1: 8.834884437596301}, 'eta0': 0.2, 'learning_rate': 'optimal', 'loss': 'log', 'random_state': 2022}\n",
      "0.751110 for {'class_weight': {0: 1, 1: 8.834884437596301}, 'eta0': 0.2, 'learning_rate': 'optimal', 'loss': 'modified_huber', 'random_state': 2022}\n",
      "0.684231 for {'class_weight': {0: 1, 1: 8.834884437596301}, 'eta0': 0.2, 'learning_rate': 'invscaling', 'loss': 'hinge', 'random_state': 2022}\n",
      "0.658404 for {'class_weight': {0: 1, 1: 8.834884437596301}, 'eta0': 0.2, 'learning_rate': 'invscaling', 'loss': 'log', 'random_state': 2022}\n",
      "0.715422 for {'class_weight': {0: 1, 1: 8.834884437596301}, 'eta0': 0.2, 'learning_rate': 'invscaling', 'loss': 'modified_huber', 'random_state': 2022}\n",
      "0.742157 for {'class_weight': {0: 1, 1: 8.834884437596301}, 'eta0': 0.2, 'learning_rate': 'adaptive', 'loss': 'hinge', 'random_state': 2022}\n",
      "0.724135 for {'class_weight': {0: 1, 1: 8.834884437596301}, 'eta0': 0.2, 'learning_rate': 'adaptive', 'loss': 'log', 'random_state': 2022}\n",
      "0.754979 for {'class_weight': {0: 1, 1: 8.834884437596301}, 'eta0': 0.2, 'learning_rate': 'adaptive', 'loss': 'modified_huber', 'random_state': 2022}\n",
      "0.622281 for {'class_weight': {0: 1, 1: 8.834884437596301}, 'eta0': 0.3, 'learning_rate': 'constant', 'loss': 'hinge', 'random_state': 2022}\n",
      "0.658190 for {'class_weight': {0: 1, 1: 8.834884437596301}, 'eta0': 0.3, 'learning_rate': 'constant', 'loss': 'log', 'random_state': 2022}\n",
      "0.579632 for {'class_weight': {0: 1, 1: 8.834884437596301}, 'eta0': 0.3, 'learning_rate': 'constant', 'loss': 'modified_huber', 'random_state': 2022}\n",
      "0.739787 for {'class_weight': {0: 1, 1: 8.834884437596301}, 'eta0': 0.3, 'learning_rate': 'optimal', 'loss': 'hinge', 'random_state': 2022}\n",
      "0.721827 for {'class_weight': {0: 1, 1: 8.834884437596301}, 'eta0': 0.3, 'learning_rate': 'optimal', 'loss': 'log', 'random_state': 2022}\n",
      "0.751110 for {'class_weight': {0: 1, 1: 8.834884437596301}, 'eta0': 0.3, 'learning_rate': 'optimal', 'loss': 'modified_huber', 'random_state': 2022}\n",
      "0.692488 for {'class_weight': {0: 1, 1: 8.834884437596301}, 'eta0': 0.3, 'learning_rate': 'invscaling', 'loss': 'hinge', 'random_state': 2022}\n",
      "0.660201 for {'class_weight': {0: 1, 1: 8.834884437596301}, 'eta0': 0.3, 'learning_rate': 'invscaling', 'loss': 'log', 'random_state': 2022}\n",
      "0.728908 for {'class_weight': {0: 1, 1: 8.834884437596301}, 'eta0': 0.3, 'learning_rate': 'invscaling', 'loss': 'modified_huber', 'random_state': 2022}\n",
      "0.741776 for {'class_weight': {0: 1, 1: 8.834884437596301}, 'eta0': 0.3, 'learning_rate': 'adaptive', 'loss': 'hinge', 'random_state': 2022}\n",
      "0.723997 for {'class_weight': {0: 1, 1: 8.834884437596301}, 'eta0': 0.3, 'learning_rate': 'adaptive', 'loss': 'log', 'random_state': 2022}\n",
      "0.755124 for {'class_weight': {0: 1, 1: 8.834884437596301}, 'eta0': 0.3, 'learning_rate': 'adaptive', 'loss': 'modified_huber', 'random_state': 2022}\n",
      "0.552336 for {'class_weight': {0: 1, 1: 8.834884437596301}, 'eta0': 0.5, 'learning_rate': 'constant', 'loss': 'hinge', 'random_state': 2022}\n",
      "0.633516 for {'class_weight': {0: 1, 1: 8.834884437596301}, 'eta0': 0.5, 'learning_rate': 'constant', 'loss': 'log', 'random_state': 2022}\n",
      "0.544429 for {'class_weight': {0: 1, 1: 8.834884437596301}, 'eta0': 0.5, 'learning_rate': 'constant', 'loss': 'modified_huber', 'random_state': 2022}\n",
      "0.739787 for {'class_weight': {0: 1, 1: 8.834884437596301}, 'eta0': 0.5, 'learning_rate': 'optimal', 'loss': 'hinge', 'random_state': 2022}\n",
      "0.721827 for {'class_weight': {0: 1, 1: 8.834884437596301}, 'eta0': 0.5, 'learning_rate': 'optimal', 'loss': 'log', 'random_state': 2022}\n",
      "0.751110 for {'class_weight': {0: 1, 1: 8.834884437596301}, 'eta0': 0.5, 'learning_rate': 'optimal', 'loss': 'modified_huber', 'random_state': 2022}\n",
      "0.707724 for {'class_weight': {0: 1, 1: 8.834884437596301}, 'eta0': 0.5, 'learning_rate': 'invscaling', 'loss': 'hinge', 'random_state': 2022}\n",
      "0.665442 for {'class_weight': {0: 1, 1: 8.834884437596301}, 'eta0': 0.5, 'learning_rate': 'invscaling', 'loss': 'log', 'random_state': 2022}\n",
      "0.739414 for {'class_weight': {0: 1, 1: 8.834884437596301}, 'eta0': 0.5, 'learning_rate': 'invscaling', 'loss': 'modified_huber', 'random_state': 2022}\n",
      "0.742110 for {'class_weight': {0: 1, 1: 8.834884437596301}, 'eta0': 0.5, 'learning_rate': 'adaptive', 'loss': 'hinge', 'random_state': 2022}\n",
      "0.723991 for {'class_weight': {0: 1, 1: 8.834884437596301}, 'eta0': 0.5, 'learning_rate': 'adaptive', 'loss': 'log', 'random_state': 2022}\n",
      "0.755465 for {'class_weight': {0: 1, 1: 8.834884437596301}, 'eta0': 0.5, 'learning_rate': 'adaptive', 'loss': 'modified_huber', 'random_state': 2022}\n",
      "\n",
      "CPU times: user 3min 26s, sys: 22.8 s, total: 3min 49s\n",
      "Wall time: 3min 51s\n"
     ]
    }
   ],
   "source": [
    "%%time\n",
    "\n",
    "SGD = SGDClassifier()\n",
    "hyperparams = [{'loss':['hinge', 'log', 'modified_huber'],\n",
    "                'learning_rate':['constant', 'optimal', 'invscaling', 'adaptive'],\n",
    "                'eta0':[0.01, 0.05, 0.1, 0.2, 0.3, 0.5],\n",
    "                'random_state':[2022],\n",
    "                'class_weight':[dict_classes]}]\n",
    "\n",
    "\n",
    "print()\n",
    "clf = GridSearchCV(SGD, hyperparams, scoring='f1',cv=3, n_jobs=-1)\n",
    "clf.fit(features_train, target_train)\n",
    "print(\"Лучшие параметры:\")\n",
    "print()\n",
    "SGD_best_params = clf.best_params_\n",
    "print(SGD_best_params)\n",
    "print()\n",
    "print(\"Результаты расчета метрики при различных комбинациях параметров:\")\n",
    "print()\n",
    "means = clf.cv_results_['mean_test_score']\n",
    "stds = clf.cv_results_['std_test_score']\n",
    "for mean, std, params in zip(means, stds, clf.cv_results_['params']):\n",
    "    print(\"%0.6f for %r\"% (mean, params))\n",
    "print()\n",
    "\n",
    "cv_f1_SGD = max(means)"
   ]
  },
  {
   "cell_type": "code",
   "execution_count": 19,
   "id": "03d7fa60",
   "metadata": {},
   "outputs": [
    {
     "name": "stdout",
     "output_type": "stream",
     "text": [
      "F1 на cv 0.7554651960866616\n",
      "F1 на валидации 0.7616951018161806\n",
      "CPU times: user 2.03 s, sys: 110 ms, total: 2.14 s\n",
      "Wall time: 2.17 s\n"
     ]
    }
   ],
   "source": [
    "%%time\n",
    "\n",
    "SGD = SGDClassifier()\n",
    "SGD.set_params(**SGD_best_params)\n",
    "SGD.fit(features_train, target_train)\n",
    "target_predict = SGD.predict(features_valid)\n",
    "valid_f1_SGD = f1_score(target_valid, target_predict)\n",
    "print('F1 на cv', cv_f1_SGD)\n",
    "print('F1 на валидации', valid_f1_SGD)"
   ]
  },
  {
   "cell_type": "markdown",
   "id": "b106788e",
   "metadata": {},
   "source": [
    "Обобщим результаты."
   ]
  },
  {
   "cell_type": "code",
   "execution_count": 20,
   "id": "d6e7cbff",
   "metadata": {},
   "outputs": [],
   "source": [
    "index = ['LogisticRegression',\n",
    "         'CatBoostClassifier',\n",
    "         'SGDClassifier']\n",
    "data = {'F1 на CV':[cv_f1_LR,\n",
    "                    cv_f1_CBC,\n",
    "                    cv_f1_SGD],\n",
    "        'F1 на валидации':[valid_f1_LR,\n",
    "                           valid_f1_CBC,\n",
    "                           valid_f1_SGD]}\n",
    "\n",
    "scores_data = pd.DataFrame(data=data, index=index)\n",
    "scores_data['Выполнение задачи'] = scores_data['F1 на валидации'] > 0.75"
   ]
  },
  {
   "cell_type": "markdown",
   "id": "217d6b8d",
   "metadata": {},
   "source": [
    "Все модели подходят для финального тестирования."
   ]
  },
  {
   "cell_type": "markdown",
   "id": "3eb28add",
   "metadata": {},
   "source": [
    "## Итоговое тестирование моделей"
   ]
  },
  {
   "cell_type": "code",
   "execution_count": 21,
   "id": "f9a9da4a",
   "metadata": {},
   "outputs": [
    {
     "name": "stdout",
     "output_type": "stream",
     "text": [
      "LogisticRegression\n",
      "F1: 0.7634206337722472\n",
      "CPU times: user 15.7 s, sys: 35.7 s, total: 51.3 s\n",
      "Wall time: 51.5 s\n"
     ]
    },
    {
     "name": "stderr",
     "output_type": "stream",
     "text": [
      "/opt/conda/lib/python3.9/site-packages/sklearn/linear_model/_logistic.py:763: ConvergenceWarning: lbfgs failed to converge (status=1):\n",
      "STOP: TOTAL NO. of ITERATIONS REACHED LIMIT.\n",
      "\n",
      "Increase the number of iterations (max_iter) or scale the data as shown in:\n",
      "    https://scikit-learn.org/stable/modules/preprocessing.html\n",
      "Please also refer to the documentation for alternative solver options:\n",
      "    https://scikit-learn.org/stable/modules/linear_model.html#logistic-regression\n",
      "  n_iter_i = _check_optimize_result(\n"
     ]
    }
   ],
   "source": [
    "%%time\n",
    "\n",
    "classificator = LogisticRegression()\n",
    "classificator.set_params(**LR_best_params)\n",
    "classificator.fit(features_train, target_train)\n",
    "predict_test = classificator.predict(features_test)\n",
    "\n",
    "print('LogisticRegression')\n",
    "f1_LR = f1_score(target_test, predict_test)\n",
    "print('F1:',f1_LR)"
   ]
  },
  {
   "cell_type": "code",
   "execution_count": 22,
   "id": "8bb8d26c",
   "metadata": {},
   "outputs": [
    {
     "name": "stdout",
     "output_type": "stream",
     "text": [
      "CatBoostClassifier\n",
      "F1: 0.7518663348738003\n",
      "CPU times: user 10min 26s, sys: 6.94 s, total: 10min 33s\n",
      "Wall time: 10min 40s\n"
     ]
    }
   ],
   "source": [
    "%%time\n",
    "\n",
    "classificator = CatBoostClassifier(verbose=False, iterations=300)\n",
    "classificator.fit(features_train, target_train)\n",
    "predict_test = classificator.predict(features_test)\n",
    "\n",
    "print('CatBoostClassifier')\n",
    "f1_CBC = f1_score(target_test, predict_test)\n",
    "print('F1:', f1_CBC)"
   ]
  },
  {
   "cell_type": "code",
   "execution_count": 23,
   "id": "22ba18cd",
   "metadata": {},
   "outputs": [
    {
     "name": "stdout",
     "output_type": "stream",
     "text": [
      "SGDClassifier\n",
      "F1: 0.7614993821227518\n",
      "CPU times: user 2.39 s, sys: 118 ms, total: 2.51 s\n",
      "Wall time: 2.55 s\n"
     ]
    }
   ],
   "source": [
    "%%time\n",
    "\n",
    "classificator = SGDClassifier()\n",
    "classificator.set_params(**SGD_best_params)\n",
    "classificator.fit(features_train, target_train)\n",
    "predict_test = classificator.predict(features_test)\n",
    "\n",
    "print('SGDClassifier')\n",
    "f1_SGD = f1_score(target_test, predict_test)\n",
    "print('F1:', f1_SGD)"
   ]
  },
  {
   "cell_type": "markdown",
   "id": "a72257da",
   "metadata": {},
   "source": [
    "## Вывод"
   ]
  },
  {
   "cell_type": "code",
   "execution_count": null,
   "id": "fa53b6c5",
   "metadata": {},
   "outputs": [],
   "source": [
    "report = pd.DataFrame(columns = [\"CatBoost\",\"LogisticRegression\",\"SGDClassifier\"],\n",
    "                      index = [\"F1\",\n",
    "                               \"Время обучения и предсказания(с)\"])\n",
    "\n",
    "\n",
    "report.iloc[0] = [f1_CBC,f1_LR,f1_SGD]\n",
    "report.iloc[1] = [\"3m 31s\", \"3.45s\", \"1.07s\"]"
   ]
  },
  {
   "cell_type": "code",
   "execution_count": null,
   "id": "441e3ca3",
   "metadata": {},
   "outputs": [],
   "source": [
    "report"
   ]
  },
  {
   "cell_type": "markdown",
   "id": "fdae17d5",
   "metadata": {},
   "source": [
    "Исходя из полученных результатов можно сделать следующие выводы:\n",
    "- по качеству предсказания модели получились примерно одного уровня\n",
    "- наиболее медленная модель в обучении - CatBoost, наиболее быстрая - SGDClassifier\n",
    "- наиболее медленная модель в предсказании - CatBoost, наиболее быстрая - LogisticRegression\n",
    "\n",
    "Исходя из выше сказанного, наиболее выигрышная модель SGDClassifier, хоть она и незначительно проигрывает по качеству и времени предсказания."
   ]
  }
 ],
 "metadata": {
  "ExecuteTimeLog": [
   {
    "duration": 25906,
    "start_time": "2022-08-01T07:38:08.292Z"
   },
   {
    "duration": 0,
    "start_time": "2022-08-01T07:38:34.201Z"
   },
   {
    "duration": 0,
    "start_time": "2022-08-01T07:38:34.202Z"
   },
   {
    "duration": 0,
    "start_time": "2022-08-01T07:38:34.203Z"
   },
   {
    "duration": 0,
    "start_time": "2022-08-01T07:38:34.204Z"
   },
   {
    "duration": 0,
    "start_time": "2022-08-01T07:38:34.206Z"
   },
   {
    "duration": 0,
    "start_time": "2022-08-01T07:38:34.206Z"
   },
   {
    "duration": 0,
    "start_time": "2022-08-01T07:38:34.208Z"
   },
   {
    "duration": 0,
    "start_time": "2022-08-01T07:38:34.209Z"
   },
   {
    "duration": 0,
    "start_time": "2022-08-01T07:38:34.210Z"
   },
   {
    "duration": 0,
    "start_time": "2022-08-01T07:38:34.211Z"
   },
   {
    "duration": 0,
    "start_time": "2022-08-01T07:38:34.231Z"
   },
   {
    "duration": 0,
    "start_time": "2022-08-01T07:38:34.232Z"
   },
   {
    "duration": 0,
    "start_time": "2022-08-01T07:38:34.233Z"
   },
   {
    "duration": 0,
    "start_time": "2022-08-01T07:38:34.234Z"
   },
   {
    "duration": 0,
    "start_time": "2022-08-01T07:38:34.236Z"
   },
   {
    "duration": 0,
    "start_time": "2022-08-01T07:38:34.237Z"
   },
   {
    "duration": 0,
    "start_time": "2022-08-01T07:38:34.238Z"
   },
   {
    "duration": 0,
    "start_time": "2022-08-01T07:38:34.239Z"
   },
   {
    "duration": 0,
    "start_time": "2022-08-01T07:38:34.240Z"
   },
   {
    "duration": 0,
    "start_time": "2022-08-01T07:38:34.242Z"
   },
   {
    "duration": 0,
    "start_time": "2022-08-01T07:38:34.243Z"
   },
   {
    "duration": 0,
    "start_time": "2022-08-01T07:38:34.244Z"
   },
   {
    "duration": 0,
    "start_time": "2022-08-01T07:38:34.245Z"
   },
   {
    "duration": 0,
    "start_time": "2022-08-01T07:38:34.246Z"
   },
   {
    "duration": 0,
    "start_time": "2022-08-01T07:38:34.247Z"
   },
   {
    "duration": 0,
    "start_time": "2022-08-01T07:38:34.248Z"
   },
   {
    "duration": 0,
    "start_time": "2022-08-01T07:38:34.249Z"
   },
   {
    "duration": 0,
    "start_time": "2022-08-01T07:38:34.250Z"
   },
   {
    "duration": 0,
    "start_time": "2022-08-01T07:38:34.251Z"
   },
   {
    "duration": 0,
    "start_time": "2022-08-01T07:38:34.252Z"
   },
   {
    "duration": 0,
    "start_time": "2022-08-01T07:38:34.253Z"
   },
   {
    "duration": 0,
    "start_time": "2022-08-01T07:38:34.254Z"
   },
   {
    "duration": 0,
    "start_time": "2022-08-01T07:38:34.255Z"
   },
   {
    "duration": 0,
    "start_time": "2022-08-01T07:38:34.256Z"
   },
   {
    "duration": 0,
    "start_time": "2022-08-01T07:38:34.257Z"
   },
   {
    "duration": 0,
    "start_time": "2022-08-01T07:38:34.257Z"
   },
   {
    "duration": 0,
    "start_time": "2022-08-01T07:38:34.259Z"
   },
   {
    "duration": 0,
    "start_time": "2022-08-01T07:38:34.260Z"
   },
   {
    "duration": 0,
    "start_time": "2022-08-01T07:38:34.260Z"
   },
   {
    "duration": 0,
    "start_time": "2022-08-01T07:38:34.261Z"
   },
   {
    "duration": 78245,
    "start_time": "2022-08-01T07:38:42.670Z"
   },
   {
    "duration": 75396,
    "start_time": "2022-08-03T07:58:01.767Z"
   },
   {
    "duration": 90225,
    "start_time": "2022-08-04T08:26:40.160Z"
   },
   {
    "duration": 2505,
    "start_time": "2022-08-04T08:28:10.388Z"
   },
   {
    "duration": 19,
    "start_time": "2022-08-04T08:28:33.725Z"
   },
   {
    "duration": 705,
    "start_time": "2022-08-04T08:28:34.920Z"
   },
   {
    "duration": 12,
    "start_time": "2022-08-04T08:28:38.016Z"
   },
   {
    "duration": 2625463,
    "start_time": "2022-08-04T08:28:42.020Z"
   },
   {
    "duration": 13,
    "start_time": "2022-08-04T09:12:27.486Z"
   },
   {
    "duration": 1912,
    "start_time": "2022-08-04T09:12:27.500Z"
   },
   {
    "duration": 0,
    "start_time": "2022-08-04T09:12:29.414Z"
   },
   {
    "duration": 0,
    "start_time": "2022-08-04T09:12:29.416Z"
   },
   {
    "duration": 0,
    "start_time": "2022-08-04T09:12:29.417Z"
   },
   {
    "duration": 0,
    "start_time": "2022-08-04T09:12:29.419Z"
   },
   {
    "duration": 0,
    "start_time": "2022-08-04T09:12:29.420Z"
   },
   {
    "duration": 0,
    "start_time": "2022-08-04T09:12:29.422Z"
   },
   {
    "duration": 0,
    "start_time": "2022-08-04T09:12:29.424Z"
   },
   {
    "duration": 0,
    "start_time": "2022-08-04T09:12:29.425Z"
   },
   {
    "duration": 0,
    "start_time": "2022-08-04T09:12:29.427Z"
   },
   {
    "duration": 0,
    "start_time": "2022-08-04T09:12:29.428Z"
   },
   {
    "duration": 0,
    "start_time": "2022-08-04T09:12:29.430Z"
   },
   {
    "duration": 0,
    "start_time": "2022-08-04T09:12:29.431Z"
   },
   {
    "duration": 0,
    "start_time": "2022-08-04T09:12:29.433Z"
   },
   {
    "duration": 0,
    "start_time": "2022-08-04T09:12:29.434Z"
   },
   {
    "duration": 0,
    "start_time": "2022-08-04T09:12:29.436Z"
   },
   {
    "duration": 0,
    "start_time": "2022-08-04T09:12:29.437Z"
   },
   {
    "duration": 0,
    "start_time": "2022-08-04T09:12:29.439Z"
   },
   {
    "duration": 56970,
    "start_time": "2022-08-04T14:58:31.597Z"
   },
   {
    "duration": 2316,
    "start_time": "2022-08-04T15:00:57.722Z"
   },
   {
    "duration": 13,
    "start_time": "2022-08-04T15:01:00.921Z"
   },
   {
    "duration": 486,
    "start_time": "2022-08-04T15:01:03.487Z"
   },
   {
    "duration": 4,
    "start_time": "2022-08-04T15:01:05.248Z"
   },
   {
    "duration": 2260283,
    "start_time": "2022-08-04T15:01:08.497Z"
   },
   {
    "duration": 7,
    "start_time": "2022-08-04T15:38:48.782Z"
   },
   {
    "duration": 1693,
    "start_time": "2022-08-04T15:38:48.800Z"
   },
   {
    "duration": 292,
    "start_time": "2022-08-04T16:03:49.929Z"
   },
   {
    "duration": 112303,
    "start_time": "2022-08-06T04:59:44.690Z"
   },
   {
    "duration": 3161,
    "start_time": "2022-08-06T05:01:36.995Z"
   },
   {
    "duration": 13,
    "start_time": "2022-08-06T05:01:40.158Z"
   },
   {
    "duration": 640,
    "start_time": "2022-08-06T05:01:40.174Z"
   },
   {
    "duration": 4,
    "start_time": "2022-08-06T05:01:40.816Z"
   },
   {
    "duration": 2705188,
    "start_time": "2022-08-06T05:01:40.822Z"
   },
   {
    "duration": 7,
    "start_time": "2022-08-06T05:46:46.012Z"
   },
   {
    "duration": 501,
    "start_time": "2022-08-06T05:46:46.021Z"
   },
   {
    "duration": 3,
    "start_time": "2022-08-06T05:46:46.525Z"
   },
   {
    "duration": 122,
    "start_time": "2022-08-06T05:46:46.533Z"
   },
   {
    "duration": 523,
    "start_time": "2022-08-06T05:46:46.658Z"
   },
   {
    "duration": 11726,
    "start_time": "2022-08-06T05:46:47.185Z"
   },
   {
    "duration": 4,
    "start_time": "2022-08-06T05:46:58.913Z"
   },
   {
    "duration": 1907163,
    "start_time": "2022-08-06T05:46:58.918Z"
   },
   {
    "duration": 8,
    "start_time": "2022-08-06T06:18:46.085Z"
   },
   {
    "duration": 705074,
    "start_time": "2022-08-06T06:18:46.098Z"
   },
   {
    "duration": 50125,
    "start_time": "2022-08-06T06:30:31.176Z"
   },
   {
    "duration": 231338,
    "start_time": "2022-08-06T06:31:21.312Z"
   },
   {
    "duration": 2174,
    "start_time": "2022-08-06T06:35:12.651Z"
   },
   {
    "duration": 77,
    "start_time": "2022-08-06T06:35:14.827Z"
   },
   {
    "duration": 51495,
    "start_time": "2022-08-06T06:35:14.908Z"
   },
   {
    "duration": 640146,
    "start_time": "2022-08-06T06:36:06.406Z"
   },
   {
    "duration": 2554,
    "start_time": "2022-08-06T06:46:46.555Z"
   },
   {
    "duration": 13,
    "start_time": "2022-08-06T08:40:20.512Z"
   }
  ],
  "kernelspec": {
   "display_name": "Python 3 (ipykernel)",
   "language": "python",
   "name": "python3"
  },
  "language_info": {
   "codemirror_mode": {
    "name": "ipython",
    "version": 3
   },
   "file_extension": ".py",
   "mimetype": "text/x-python",
   "name": "python",
   "nbconvert_exporter": "python",
   "pygments_lexer": "ipython3",
   "version": "3.9.7"
  },
  "toc": {
   "base_numbering": 1,
   "nav_menu": {},
   "number_sections": true,
   "sideBar": true,
   "skip_h1_title": true,
   "title_cell": "Table of Contents",
   "title_sidebar": "Contents",
   "toc_cell": false,
   "toc_position": {
    "height": "calc(100% - 180px)",
    "left": "10px",
    "top": "150px",
    "width": "246px"
   },
   "toc_section_display": true,
   "toc_window_display": true
  }
 },
 "nbformat": 4,
 "nbformat_minor": 5
}
